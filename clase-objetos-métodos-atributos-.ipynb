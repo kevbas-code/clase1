{
 "cells": [
  {
   "cell_type": "code",
   "execution_count": null,
   "metadata": {},
   "outputs": [],
   "source": [
    "from numpy import *\n",
    "A = array([[1,2,3], [4,5,6], [7,8,9]])\n",
    "A"
   ]
  },
  {
   "cell_type": "code",
   "execution_count": null,
   "metadata": {},
   "outputs": [],
   "source": [
    "Am = mat(A)\n",
    "Am"
   ]
  },
  {
   "cell_type": "code",
   "execution_count": null,
   "metadata": {},
   "outputs": [],
   "source": [
    "import numpy as np\n",
    "a = [[1,2,3,4],[5,6,7,8]]\n",
    "aa = np.array(a)\n",
    "%timeit aa.sum() \n",
    "#aa.sum()"
   ]
  },
  {
   "cell_type": "code",
   "execution_count": null,
   "metadata": {},
   "outputs": [],
   "source": [
    "import numpy as np\n",
    "a = [[1,2,3,4],[5,6,7,8]]\n",
    "ma = np.matrix(a)\n",
    "%timeit ma.sum()"
   ]
  },
  {
   "cell_type": "markdown",
   "metadata": {},
   "source": [
    "### NOTAS:\n",
    "* lenguaje de bajo nivel:los que se acercan al modo de trabajo de un ordenador ( 1 y 0)\n",
    "* lenguaje de alto nivel:los que se acercan al modo de trabajo de un ser humano (instrucciones)\n",
    "* lenguaje compilado e interpretado\n",
    "* paradigmas de programación ( programación imperativa, orientada a objetos y funcional)\n",
    "\n",
    "\n",
    "**** aumentar bibliografia"
   ]
  },
  {
   "cell_type": "markdown",
   "metadata": {},
   "source": [
    "### <center> <h1>Clase-Objeto-Los atributos-Funciones-Instancia</h1> </center> \n",
    "### Clase: \n",
    "+ Podemos definir una clase vagamente como una Plantilla o modelo para crear a partir de ella ciertos Objetos. \n",
    "+ Esta plantilla es la que contiene la información; características y capacidades que tendrá el objeto que sea creado a partir de ella.\n",
    "+ Así a su vez los objetos creados a partir de ella estarán agrupados en esa misma clase.\n",
    "+ Crear un objeto a partir de una clase se denomina instanciar.\n",
    "\n",
    "### Objeto: \n",
    "+ Es muy sencillo; cuando pensamos en objetos pensamos en entidades que tienen un comportamiento; un estado; almacenan información y pueden realizar tareas. \n",
    "+ Refiriéndonos a comportamiento como acciones o capacidades de realizar cambios; y a estados como situación o modo de estar en un momento determinado.\n",
    "+ Pero hay algo que debes saber también de los objetos. No necesariamente todos deben derivar de una clase; pueden existir objetos sin que hallan sido creados de una clase en particular.\n",
    "\n",
    "### Los atributos: \n",
    "+ Características que nosotros definimos para ese objeto. \n",
    "+ Son variables de diferentes tipos (Entero; Texto; Booleanos) que pueden tener valores por defecto o le podrán ser asignadas al momento de la Instancia de un objeto determinando sus características y estado.\n",
    "\n",
    "### Funciones en Python\n",
    "+ Tareas que son capaces de realizar los objetos.\n",
    "+ Como en otros lenguajes de programación,una función no es más que una porción o bloque de código reutilizable que se encarga de realizar una determinada tarea.\n",
    "\n",
    "### Los métodos:\n",
    "+ Un método es una función que «pertenece a» un objeto. En Python, el término método no está limitado a instancias de clase: otros tipos de objetos pueden tener métodos también. Por ejemplo, los objetos lista tienen métodos llamados append, insert, remove, sort, y así sucesivamente\n",
    "\n",
    "#### <span style=\"color:blue\">Instancia:</span>\n",
    "+ <span style=\"color:blue\"> Creación de un objeto partiendo de una clase. Durante la instancia son asignados los valores iniciales para los atributos.</span>"
   ]
  },
  {
   "cell_type": "code",
   "execution_count": null,
   "metadata": {},
   "outputs": [],
   "source": [
    "lista = ['gsm', 'umts', 'lte',4,4.5,5]\n",
    "lista.append('l')\n",
    "lista"
   ]
  },
  {
   "cell_type": "code",
   "execution_count": null,
   "metadata": {},
   "outputs": [],
   "source": [
    "len(lista)"
   ]
  },
  {
   "cell_type": "code",
   "execution_count": null,
   "metadata": {},
   "outputs": [],
   "source": [
    "from numpy import *\n",
    "A = array([[1,2,3], [4,5,6], [7,8,9]])\n",
    "A.shape"
   ]
  },
  {
   "cell_type": "code",
   "execution_count": null,
   "metadata": {},
   "outputs": [],
   "source": [
    "print(A.__dict__)"
   ]
  },
  {
   "cell_type": "code",
   "execution_count": null,
   "metadata": {},
   "outputs": [],
   "source": [
    "## clases y objetos\n",
    "class Lapiz: # plantilla\n",
    "    color='amarillo'  # atributos\n",
    "    contiene_borrador=False  # atributos\n",
    "\n",
    "# definimos el objeto\n",
    "lapiz_generico=Lapiz() \n",
    "print(lapiz_generico.color)\n"
   ]
  },
  {
   "cell_type": "code",
   "execution_count": null,
   "metadata": {},
   "outputs": [],
   "source": [
    "## clases y objetos\n",
    "\n",
    "class Lapiz: # plantilla\n",
    "    color='amarillo'  # atributos\n",
    "    contiene_borrador=False  # atributos  \n",
    "    ## definimos el método\n",
    "    def dibujar(self):\n",
    "        print('el lapiz esta dibujando')\n",
    "# definimos el objeto\n",
    "lapiz_generico=Lapiz() \n",
    "print(lapiz_generico.color)\n",
    "lapiz_generico.dibujar()"
   ]
  },
  {
   "cell_type": "code",
   "execution_count": null,
   "metadata": {},
   "outputs": [],
   "source": [
    "def dibujar(x):\n",
    "    print(x)\n",
    "    print('el lapiz esta dibujando')\n",
    "    \n",
    "    \n",
    "\n"
   ]
  },
  {
   "cell_type": "code",
   "execution_count": null,
   "metadata": {},
   "outputs": [],
   "source": [
    "p=\"alex\"\n",
    "dibujar(p)"
   ]
  },
  {
   "cell_type": "code",
   "execution_count": null,
   "metadata": {},
   "outputs": [],
   "source": [
    "from IPython.display import Image\n",
    "Image(\"Clases-y-Objetos-min-577x1024-min.png\")"
   ]
  },
  {
   "cell_type": "code",
   "execution_count": null,
   "metadata": {},
   "outputs": [],
   "source": [
    "class Humano(): #Creamos la clase Humano\n",
    "    def __init__(self, edad, nombre, ocupacion): #self palabra reservada de python para referirse al objeto \n",
    "                                                  #Definimos el parametro edad , nombre y ocupacion son atributos del objeto\n",
    "        self.edad = edad        # Definimos que el atributo edad, que nuestro parámetro es igual al argumento que pasemos \n",
    "                                # como valor al momento de la instancia\n",
    "        self.nombre = nombre    # Definimos que el atributo nombre\n",
    "        self.ocupacion = ocupacion #Definimos que el atributo ocupación\n",
    "Persona1 = Humano(31, \"Pedro\", \"Desocupado\") #Instancia\n",
    "Persona1"
   ]
  },
  {
   "cell_type": "code",
   "execution_count": null,
   "metadata": {},
   "outputs": [],
   "source": [
    "class Humano(): #Creamos la clase Humano\n",
    "    def __init__(self, edad, nombre, ocupacion): #self palabra reservada de python para referirse al objeto \n",
    "                                                  #Definimos el parametro edad , nombre y ocupacion son atributos del objeto\n",
    "        self.edad = edad        # Definimos que el atributo edad, que nuestro parámetro es igual al argumento que pasemos \n",
    "                                #como valor al momento de la instancia\n",
    "        self.nombre = nombre    # Definimos que el atributo nombre\n",
    "        self.ocupacion = ocupacion #Definimos que el atributo ocupación\n",
    "        \n",
    "        #Creación de un nuevo método\n",
    "    def presentar(self):\n",
    "        presentacion = (\"Hola soy {}, mi edad es {} y mi ocupación es {}\") #Mensaje\n",
    "        print(presentacion.format(self.nombre, self.edad, self.ocupacion)) #Usamos FORMAT\n",
    "Persona1 = Humano(31, \"Pedro\", \"Desocupado\") #Instancia\n",
    "#Llamamos al método\n",
    "Persona1.presentar()"
   ]
  },
  {
   "cell_type": "markdown",
   "metadata": {},
   "source": [
    "NOTAS:\n",
    "* lenguaje de bajo nivel:los que se acercan al modo de trabajo de un ordenador ( 1 y 0)\n",
    "* lenguaje de alto nivel:los que se acercan al modo de trabajo de un ser humano (instrucciones)\n",
    "* lenguaje compilado e interpretado\n",
    "* paradigmas de programación ( programación imperativa, orientada a objetos y funcional)\n"
   ]
  },
  {
   "cell_type": "code",
   "execution_count": null,
   "metadata": {},
   "outputs": [],
   "source": []
  },
  {
   "cell_type": "code",
   "execution_count": null,
   "metadata": {},
   "outputs": [],
   "source": [
    "## clases y objetos\n",
    "\n",
    "class Lapiz: # plantilla\n",
    "    color='amarillo'  # atributos\n",
    "    contiene_borrador=False  # atributos\n",
    "    \n",
    "    ## definimos el método\n",
    "    def dibujar(self):\n",
    "        print('el lapiz esta dibujando')\n",
    "\n",
    "# definimos el objeto\n",
    "lapiz_generico=Lapiz() \n",
    "print(lapiz_generico.color)\n",
    "lapiz_generico.dibujar()\n",
    "\n",
    "    \n",
    "    "
   ]
  },
  {
   "cell_type": "code",
   "execution_count": 1,
   "metadata": {},
   "outputs": [
    {
     "data": {
      "text/plain": [
       "140737142597536"
      ]
     },
     "execution_count": 1,
     "metadata": {},
     "output_type": "execute_result"
    }
   ],
   "source": [
    "id(5)"
   ]
  },
  {
   "cell_type": "code",
   "execution_count": 6,
   "metadata": {},
   "outputs": [
    {
     "data": {
      "text/plain": [
       "140737142597568"
      ]
     },
     "execution_count": 6,
     "metadata": {},
     "output_type": "execute_result"
    }
   ],
   "source": [
    "id(6)"
   ]
  },
  {
   "cell_type": "code",
   "execution_count": 2,
   "metadata": {},
   "outputs": [
    {
     "data": {
      "text/plain": [
       "5"
      ]
     },
     "execution_count": 2,
     "metadata": {},
     "output_type": "execute_result"
    }
   ],
   "source": [
    "x=5\n",
    "y=x\n",
    "y"
   ]
  },
  {
   "cell_type": "code",
   "execution_count": 3,
   "metadata": {},
   "outputs": [
    {
     "data": {
      "text/plain": [
       "140737142597536"
      ]
     },
     "execution_count": 3,
     "metadata": {},
     "output_type": "execute_result"
    }
   ],
   "source": [
    "id(y)"
   ]
  },
  {
   "cell_type": "code",
   "execution_count": 4,
   "metadata": {},
   "outputs": [
    {
     "data": {
      "text/plain": [
       "5"
      ]
     },
     "execution_count": 4,
     "metadata": {},
     "output_type": "execute_result"
    }
   ],
   "source": [
    "X=6\n",
    "y"
   ]
  },
  {
   "cell_type": "code",
   "execution_count": 5,
   "metadata": {},
   "outputs": [
    {
     "data": {
      "text/plain": [
       "140737142597536"
      ]
     },
     "execution_count": 5,
     "metadata": {},
     "output_type": "execute_result"
    }
   ],
   "source": [
    "id(x)"
   ]
  },
  {
   "cell_type": "code",
   "execution_count": 7,
   "metadata": {},
   "outputs": [
    {
     "data": {
      "text/plain": [
       "140737142597536"
      ]
     },
     "execution_count": 7,
     "metadata": {},
     "output_type": "execute_result"
    }
   ],
   "source": [
    "id(y)"
   ]
  },
  {
   "cell_type": "code",
   "execution_count": null,
   "metadata": {},
   "outputs": [],
   "source": [
    "x = [1, 2, 3, 4]\n",
    "y = x\n",
    "y"
   ]
  },
  {
   "cell_type": "code",
   "execution_count": null,
   "metadata": {},
   "outputs": [],
   "source": [
    "x[0]=5\n",
    "x"
   ]
  },
  {
   "cell_type": "code",
   "execution_count": null,
   "metadata": {},
   "outputs": [],
   "source": [
    "y"
   ]
  },
  {
   "cell_type": "code",
   "execution_count": null,
   "metadata": {},
   "outputs": [],
   "source": [
    "id(x)"
   ]
  },
  {
   "cell_type": "code",
   "execution_count": null,
   "metadata": {},
   "outputs": [],
   "source": [
    "id(y)"
   ]
  },
  {
   "cell_type": "code",
   "execution_count": 8,
   "metadata": {},
   "outputs": [
    {
     "data": {
      "text/plain": [
       "2548302247040"
      ]
     },
     "execution_count": 8,
     "metadata": {},
     "output_type": "execute_result"
    }
   ],
   "source": [
    "x = [1, 2, 3, 4]\n",
    "y = x\n",
    "id(x)\n",
    "\n",
    "\n"
   ]
  },
  {
   "cell_type": "code",
   "execution_count": 9,
   "metadata": {},
   "outputs": [
    {
     "data": {
      "text/plain": [
       "2548302247040"
      ]
     },
     "execution_count": 9,
     "metadata": {},
     "output_type": "execute_result"
    }
   ],
   "source": [
    "id(y)"
   ]
  },
  {
   "cell_type": "code",
   "execution_count": 11,
   "metadata": {},
   "outputs": [
    {
     "data": {
      "text/plain": [
       "[5, 2, 3, 4]"
      ]
     },
     "execution_count": 11,
     "metadata": {},
     "output_type": "execute_result"
    }
   ],
   "source": [
    "x[0] = 5\n",
    "x"
   ]
  },
  {
   "cell_type": "code",
   "execution_count": 12,
   "metadata": {},
   "outputs": [
    {
     "data": {
      "text/plain": [
       "2548302247040"
      ]
     },
     "execution_count": 12,
     "metadata": {},
     "output_type": "execute_result"
    }
   ],
   "source": [
    "id(x)"
   ]
  },
  {
   "cell_type": "code",
   "execution_count": 13,
   "metadata": {},
   "outputs": [
    {
     "data": {
      "text/plain": [
       "2548302247040"
      ]
     },
     "execution_count": 13,
     "metadata": {},
     "output_type": "execute_result"
    }
   ],
   "source": [
    "id(y)"
   ]
  },
  {
   "cell_type": "code",
   "execution_count": null,
   "metadata": {},
   "outputs": [],
   "source": []
  }
 ],
 "metadata": {
  "kernelspec": {
   "display_name": "Python 3",
   "language": "python",
   "name": "python3"
  },
  "language_info": {
   "codemirror_mode": {
    "name": "ipython",
    "version": 3
   },
   "file_extension": ".py",
   "mimetype": "text/x-python",
   "name": "python",
   "nbconvert_exporter": "python",
   "pygments_lexer": "ipython3",
   "version": "3.8.3"
  }
 },
 "nbformat": 4,
 "nbformat_minor": 4
}
