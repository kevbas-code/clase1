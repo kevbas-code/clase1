{
 "cells": [
  {
   "cell_type": "code",
   "execution_count": 1,
   "metadata": {},
   "outputs": [
    {
     "data": {
      "text/plain": [
       "array([[1, 2, 3],\n",
       "       [4, 5, 6],\n",
       "       [7, 8, 9]])"
      ]
     },
     "execution_count": 1,
     "metadata": {},
     "output_type": "execute_result"
    }
   ],
   "source": [
    "from numpy import *\n",
    "A = array([[1,2,3], [4,5,6], [7,8,9]])\n",
    "A"
   ]
  },
  {
   "cell_type": "code",
   "execution_count": 3,
   "metadata": {},
   "outputs": [
    {
     "data": {
      "text/plain": [
       "matrix([[1, 2, 3],\n",
       "        [4, 5, 6],\n",
       "        [7, 8, 9]])"
      ]
     },
     "execution_count": 3,
     "metadata": {},
     "output_type": "execute_result"
    }
   ],
   "source": [
    "Am = mat(A)\n",
    "Am"
   ]
  },
  {
   "cell_type": "code",
   "execution_count": 7,
   "metadata": {},
   "outputs": [
    {
     "name": "stdout",
     "output_type": "stream",
     "text": [
      "6.23 µs ± 211 ns per loop (mean ± std. dev. of 7 runs, 100000 loops each)\n"
     ]
    }
   ],
   "source": [
    "import numpy as np\n",
    "a = [[1,2,3,4],[5,6,7,8]]\n",
    "aa = np.array(a)\n",
    "%timeit aa.sum() \n",
    "#aa.sum()"
   ]
  },
  {
   "cell_type": "code",
   "execution_count": 5,
   "metadata": {},
   "outputs": [
    {
     "name": "stdout",
     "output_type": "stream",
     "text": [
      "11.1 µs ± 293 ns per loop (mean ± std. dev. of 7 runs, 100000 loops each)\n"
     ]
    }
   ],
   "source": [
    "import numpy as np\n",
    "a = [[1,2,3,4],[5,6,7,8]]\n",
    "ma = np.matrix(a)\n",
    "%timeit ma.sum()"
   ]
  },
  {
   "cell_type": "markdown",
   "metadata": {},
   "source": [
    "### NOTAS:\n",
    "* lenguaje de bajo nivel:los que se acercan al modo de trabajo de un ordenador ( 1 y 0)\n",
    "* lenguaje de alto nivel:los que se acercan al modo de trabajo de un ser humano (instrucciones)\n",
    "* lenguaje compilado e interpretado\n",
    "* paradigmas de programación ( programación imperativa, orientada a objetos y funcional)\n",
    "\n",
    "\n",
    "**** aumentar bibliografia"
   ]
  },
  {
   "cell_type": "markdown",
   "metadata": {},
   "source": [
    "### <center> <h1>Clase-Objeto-Los atributos-Funciones-Instancia</h1> </center> \n",
    "### Clase: \n",
    "+ Podemos definir una clase vagamente como una Plantilla o modelo para crear a partir de ella ciertos Objetos. \n",
    "+ Esta plantilla es la que contiene la información; características y capacidades que tendrá el objeto que sea creado a partir de ella.\n",
    "+ Así a su vez los objetos creados a partir de ella estarán agrupados en esa misma clase.\n",
    "+ Crear un objeto a partir de una clase se denomina instanciar.\n",
    "\n",
    "### Objeto: \n",
    "+ Es muy sencillo; cuando pensamos en objetos pensamos en entidades que tienen un comportamiento; un estado; almacenan información y pueden realizar tareas. \n",
    "+ Refiriéndonos a comportamiento como acciones o capacidades de realizar cambios; y a estados como situación o modo de estar en un momento determinado.\n",
    "+ Pero hay algo que debes saber también de los objetos. No necesariamente todos deben derivar de una clase; pueden existir objetos sin que hallan sido creados de una clase en particular.\n",
    "\n",
    "### Los atributos: \n",
    "+ Características que nosotros definimos para ese objeto. \n",
    "+ Son variables de diferentes tipos (Entero; Texto; Booleanos) que pueden tener valores por defecto o le podrán ser asignadas al momento de la Instancia de un objeto determinando sus características y estado.\n",
    "\n",
    "### Funciones en Python\n",
    "+ Tareas que son capaces de realizar los objetos.\n",
    "+ Como en otros lenguajes de programación,una función no es más que una porción o bloque de código reutilizable que se encarga de realizar una determinada tarea.\n",
    "\n",
    "### Los métodos:\n",
    "+ Un método es una función que «pertenece a» un objeto. En Python, el término método no está limitado a instancias de clase: otros tipos de objetos pueden tener métodos también. Por ejemplo, los objetos lista tienen métodos llamados append, insert, remove, sort, y así sucesivamente\n",
    "\n",
    "#### <span style=\"color:blue\">Instancia:</span>\n",
    "+ <span style=\"color:blue\"> Creación de un objeto partiendo de una clase. Durante la instancia son asignados los valores iniciales para los atributos.</span>"
   ]
  },
  {
   "cell_type": "code",
   "execution_count": 35,
   "metadata": {},
   "outputs": [
    {
     "data": {
      "text/plain": [
       "['gsm', 'umts', 'lte', 4, 4.5, 5, 'l']"
      ]
     },
     "execution_count": 35,
     "metadata": {},
     "output_type": "execute_result"
    }
   ],
   "source": [
    "lista = ['gsm', 'umts', 'lte',4,4.5,5]\n",
    "lista.append('l')\n",
    "lista"
   ]
  },
  {
   "cell_type": "code",
   "execution_count": 36,
   "metadata": {},
   "outputs": [
    {
     "data": {
      "text/plain": [
       "7"
      ]
     },
     "execution_count": 36,
     "metadata": {},
     "output_type": "execute_result"
    }
   ],
   "source": [
    "len(lista)"
   ]
  },
  {
   "cell_type": "code",
   "execution_count": 16,
   "metadata": {},
   "outputs": [
    {
     "data": {
      "text/plain": [
       "(3, 3)"
      ]
     },
     "execution_count": 16,
     "metadata": {},
     "output_type": "execute_result"
    }
   ],
   "source": [
    "from numpy import *\n",
    "A = array([[1,2,3], [4,5,6], [7,8,9]])\n",
    "A.shape"
   ]
  },
  {
   "cell_type": "code",
   "execution_count": 1,
   "metadata": {},
   "outputs": [
    {
     "ename": "NameError",
     "evalue": "name 'A' is not defined",
     "output_type": "error",
     "traceback": [
      "\u001b[1;31m---------------------------------------------------------------------------\u001b[0m",
      "\u001b[1;31mNameError\u001b[0m                                 Traceback (most recent call last)",
      "\u001b[1;32m<ipython-input-1-246f1db39dce>\u001b[0m in \u001b[0;36m<module>\u001b[1;34m\u001b[0m\n\u001b[1;32m----> 1\u001b[1;33m \u001b[0mprint\u001b[0m\u001b[1;33m(\u001b[0m\u001b[0mA\u001b[0m\u001b[1;33m.\u001b[0m\u001b[0m__dict__\u001b[0m\u001b[1;33m)\u001b[0m\u001b[1;33m\u001b[0m\u001b[1;33m\u001b[0m\u001b[0m\n\u001b[0m",
      "\u001b[1;31mNameError\u001b[0m: name 'A' is not defined"
     ]
    }
   ],
   "source": [
    "print(A.__dict__)"
   ]
  },
  {
   "cell_type": "code",
   "execution_count": 8,
   "metadata": {},
   "outputs": [
    {
     "name": "stdout",
     "output_type": "stream",
     "text": [
      "amarillo\n"
     ]
    }
   ],
   "source": [
    "## clases y objetos\n",
    "class Lapiz: # plantilla\n",
    "    color='amarillo'  # atributos\n",
    "    contiene_borrador=False  # atributos\n",
    "\n",
    "# definimos el objeto\n",
    "lapiz_generico=Lapiz() \n",
    "print(lapiz_generico.color)\n"
   ]
  },
  {
   "cell_type": "code",
   "execution_count": 17,
   "metadata": {},
   "outputs": [
    {
     "name": "stdout",
     "output_type": "stream",
     "text": [
      "amarillo\n",
      "el lapiz esta dibujando\n"
     ]
    }
   ],
   "source": [
    "## clases y objetos\n",
    "\n",
    "class Lapiz: # plantilla\n",
    "    color='amarillo'  # atributos\n",
    "    contiene_borrador=False  # atributos  \n",
    "    ## definimos el método\n",
    "    def dibujar(self):\n",
    "        print('el lapiz esta dibujando')\n",
    "# definimos el objeto\n",
    "lapiz_generico=Lapiz() \n",
    "print(lapiz_generico.color)\n",
    "lapiz_generico.dibujar()"
   ]
  },
  {
   "cell_type": "code",
   "execution_count": 32,
   "metadata": {},
   "outputs": [],
   "source": [
    "def dibujar(x):\n",
    "    print(x)\n",
    "    print('el lapiz esta dibujando')\n",
    "    \n",
    "    \n",
    "\n"
   ]
  },
  {
   "cell_type": "code",
   "execution_count": 33,
   "metadata": {},
   "outputs": [
    {
     "name": "stdout",
     "output_type": "stream",
     "text": [
      "alex\n",
      "el lapiz esta dibujando\n"
     ]
    }
   ],
   "source": [
    "p=\"alex\"\n",
    "dibujar(p)"
   ]
  },
  {
   "cell_type": "code",
   "execution_count": 2,
   "metadata": {},
   "outputs": [
    {
     "data": {
      "image/png": "[encoded data removed]",
      "text/plain": [
       "<IPython.core.display.Image object>"
      ]
     },
     "execution_count": 2,
     "metadata": {},
     "output_type": "execute_result"
    }
   ],
   "source": [
    "from IPython.display import Image\n",
    "Image(\"Clases-y-Objetos-min-577x1024-min.png\")"
   ]
  },
  {
   "cell_type": "code",
   "execution_count": 22,
   "metadata": {},
   "outputs": [
    {
     "data": {
      "text/plain": [
       "<__main__.Humano at 0x7acac32ca0>"
      ]
     },
     "execution_count": 22,
     "metadata": {},
     "output_type": "execute_result"
    }
   ],
   "source": [
    "class Humano(): #Creamos la clase Humano\n",
    "    def __init__(self, edad, nombre, ocupacion): #self palabra reservada de python para referirse al objeto \n",
    "                                                  #Definimos el parametro edad , nombre y ocupacion son atributos del objeto\n",
    "        self.edad = edad        # Definimos que el atributo edad, que nuestro parámetro es igual al argumento que pasemos \n",
    "                                # como valor al momento de la instancia\n",
    "        self.nombre = nombre    # Definimos que el atributo nombre\n",
    "        self.ocupacion = ocupacion #Definimos que el atributo ocupación\n",
    "Persona1 = Humano(31, \"Pedro\", \"Desocupado\") #Instancia\n",
    "Persona1"
   ]
  },
  {
   "cell_type": "code",
   "execution_count": 18,
   "metadata": {},
   "outputs": [
    {
     "name": "stdout",
     "output_type": "stream",
     "text": [
      "Hola soy Pedro, mi edad es 31 y mi ocupación es Desocupado\n"
     ]
    }
   ],
   "source": [
    "class Humano(): #Creamos la clase Humano\n",
    "    def __init__(self, edad, nombre, ocupacion): #self palabra reservada de python para referirse al objeto \n",
    "                                                  #Definimos el parametro edad , nombre y ocupacion son atributos del objeto\n",
    "        self.edad = edad        # Definimos que el atributo edad, que nuestro parámetro es igual al argumento que pasemos \n",
    "                                #como valor al momento de la instancia\n",
    "        self.nombre = nombre    # Definimos que el atributo nombre\n",
    "        self.ocupacion = ocupacion #Definimos que el atributo ocupación\n",
    "        \n",
    "        #Creación de un nuevo método\n",
    "    def presentar(self):\n",
    "        presentacion = (\"Hola soy {}, mi edad es {} y mi ocupación es {}\") #Mensaje\n",
    "        print(presentacion.format(self.nombre, self.edad, self.ocupacion)) #Usamos FORMAT\n",
    "Persona1 = Humano(31, \"Pedro\", \"Desocupado\") #Instancia\n",
    "#Llamamos al método\n",
    "Persona1.presentar()"
   ]
  },
  {
   "cell_type": "markdown",
   "metadata": {},
   "source": [
    "NOTAS:\n",
    "* lenguaje de bajo nivel:los que se acercan al modo de trabajo de un ordenador ( 1 y 0)\n",
    "* lenguaje de alto nivel:los que se acercan al modo de trabajo de un ser humano (instrucciones)\n",
    "* lenguaje compilado e interpretado\n",
    "* paradigmas de programación ( programación imperativa, orientada a objetos y funcional)\n"
   ]
  },
  {
   "cell_type": "code",
   "execution_count": null,
   "metadata": {},
   "outputs": [],
   "source": []
  },
  {
   "cell_type": "code",
   "execution_count": 16,
   "metadata": {},
   "outputs": [
    {
     "name": "stdout",
     "output_type": "stream",
     "text": [
      "amarillo\n",
      "el lapiz esta dibujando\n"
     ]
    }
   ],
   "source": [
    "## clases y objetos\n",
    "\n",
    "class Lapiz: # plantilla\n",
    "    color='amarillo'  # atributos\n",
    "    contiene_borrador=False  # atributos\n",
    "    \n",
    "    ## definimos el método\n",
    "    def dibujar(self):\n",
    "        print('el lapiz esta dibujando')\n",
    "\n",
    "# definimos el objeto\n",
    "lapiz_generico=Lapiz() \n",
    "print(lapiz_generico.color)\n",
    "lapiz_generico.dibujar()\n",
    "\n",
    "    \n",
    "    "
   ]
  },
  {
   "cell_type": "code",
   "execution_count": 29,
   "metadata": {},
   "outputs": [
    {
     "ename": "AttributeError",
     "evalue": "'list' object has no attribute 'len'",
     "output_type": "error",
     "traceback": [
      "\u001b[1;31m---------------------------------------------------------------------------\u001b[0m",
      "\u001b[1;31mAttributeError\u001b[0m                            Traceback (most recent call last)",
      "\u001b[1;32m<ipython-input-29-c86d00c3ae97>\u001b[0m in \u001b[0;36m<module>\u001b[1;34m\u001b[0m\n\u001b[0;32m      1\u001b[0m \u001b[0mRedes_Moviles\u001b[0m \u001b[1;33m=\u001b[0m \u001b[1;33m[\u001b[0m\u001b[1;34m'gsm'\u001b[0m\u001b[1;33m,\u001b[0m \u001b[1;34m'umts'\u001b[0m\u001b[1;33m,\u001b[0m \u001b[1;34m'lte'\u001b[0m\u001b[1;33m,\u001b[0m\u001b[1;36m4\u001b[0m\u001b[1;33m,\u001b[0m\u001b[1;36m4.5\u001b[0m\u001b[1;33m,\u001b[0m\u001b[1;36m5\u001b[0m\u001b[1;33m]\u001b[0m\u001b[1;33m\u001b[0m\u001b[1;33m\u001b[0m\u001b[0m\n\u001b[1;32m----> 2\u001b[1;33m \u001b[0mRedes_Moviles\u001b[0m\u001b[1;33m.\u001b[0m\u001b[0mlen\u001b[0m\u001b[1;33m\u001b[0m\u001b[1;33m\u001b[0m\u001b[0m\n\u001b[0m",
      "\u001b[1;31mAttributeError\u001b[0m: 'list' object has no attribute 'len'"
     ]
    }
   ],
   "source": []
  }
 ],
 "metadata": {
  "kernelspec": {
   "display_name": "Python 3",
   "language": "python",
   "name": "python3"
  },
  "language_info": {
   "codemirror_mode": {
    "name": "ipython",
    "version": 3
   },
   "file_extension": ".py",
   "mimetype": "text/x-python",
   "name": "python",
   "nbconvert_exporter": "python",
   "pygments_lexer": "ipython3",
   "version": "3.8.6"
  }
 },
 "nbformat": 4,
 "nbformat_minor": 4
}
